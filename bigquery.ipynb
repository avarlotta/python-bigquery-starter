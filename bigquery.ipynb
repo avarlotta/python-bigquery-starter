{
 "cells": [
  {
   "cell_type": "markdown",
   "metadata": {},
   "source": [
    "### Google Analytics 4 and BigQuery with Pandas\n",
    "#### [GA4 Public Dataset](https://console.cloud.google.com/bigquery?p=bigquery-public-data&d=ga4_obfuscated_sample_ecommerce&t=events_20210131&page=table)\n"
   ]
  },
  {
   "cell_type": "code",
   "execution_count": null,
   "metadata": {},
   "outputs": [],
   "source": [
    "from google.cloud import bigquery\n",
    "from google.oauth2 import service_account\n",
    "import pandas as pd\n",
    "\n",
    "# Use a service account for authentication onto GCP\n",
    "credentials = service_account.Credentials.from_service_account_file('path_to_secrets.json')\n",
    "\n",
    "# The project id to which the service account has access\n",
    "project_id = 'your-bigquery-project-id'\n",
    "\n",
    "# Establish a connection to the client\n",
    "client = bigquery.Client(credentials= credentials, project=project_id)\n",
    "\n",
    "# Perform a query\n",
    "query = client.query(\n",
    "\"\"\"\n",
    "SELECT ...\n",
    "\"\"\")\n",
    "\n",
    "#Convert output into a pandas dataframe\n",
    "df = query.to_dataframe()\n",
    "df"
   ]
  },
  {
   "cell_type": "code",
   "execution_count": null,
   "metadata": {},
   "outputs": [],
   "source": []
  }
 ],
 "metadata": {
  "kernelspec": {
   "display_name": "Python 3",
   "language": "python",
   "name": "python3"
  },
  "language_info": {
   "codemirror_mode": {
    "name": "ipython",
    "version": 3
   },
   "file_extension": ".py",
   "mimetype": "text/x-python",
   "name": "python",
   "nbconvert_exporter": "python",
   "pygments_lexer": "ipython3",
   "version": "3.8.3"
  }
 },
 "nbformat": 4,
 "nbformat_minor": 4
}
